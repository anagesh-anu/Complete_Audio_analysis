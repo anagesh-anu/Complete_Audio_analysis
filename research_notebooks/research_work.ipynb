{
  "cells": [
    {
      "cell_type": "code",
      "execution_count": 1,
      "metadata": {
        "colab": {
          "base_uri": "https://localhost:8080/"
        },
        "collapsed": true,
        "id": "0cyFpfRQSKRv",
        "outputId": "3367108e-015c-44ec-84e1-dc8943b80d07"
      },
      "outputs": [
        {
          "name": "stdout",
          "output_type": "stream",
          "text": [
            "Requirement already satisfied: openai-whisper in c:\\users\\anage\\anaconda3\\envs\\bytexl\\lib\\site-packages (20240930)\n",
            "Requirement already satisfied: numba in c:\\users\\anage\\anaconda3\\envs\\bytexl\\lib\\site-packages (from openai-whisper) (0.60.0)\n",
            "Requirement already satisfied: numpy in c:\\users\\anage\\anaconda3\\envs\\bytexl\\lib\\site-packages (from openai-whisper) (2.0.2)\n",
            "Requirement already satisfied: torch in c:\\users\\anage\\anaconda3\\envs\\bytexl\\lib\\site-packages (from openai-whisper) (2.7.0)\n",
            "Requirement already satisfied: tqdm in c:\\users\\anage\\anaconda3\\envs\\bytexl\\lib\\site-packages (from openai-whisper) (4.67.1)\n",
            "Requirement already satisfied: more-itertools in c:\\users\\anage\\anaconda3\\envs\\bytexl\\lib\\site-packages (from openai-whisper) (10.7.0)\n",
            "Requirement already satisfied: tiktoken in c:\\users\\anage\\anaconda3\\envs\\bytexl\\lib\\site-packages (from openai-whisper) (0.9.0)\n",
            "Requirement already satisfied: llvmlite<0.44,>=0.43.0dev0 in c:\\users\\anage\\anaconda3\\envs\\bytexl\\lib\\site-packages (from numba->openai-whisper) (0.43.0)\n",
            "Requirement already satisfied: regex>=2022.1.18 in c:\\users\\anage\\anaconda3\\envs\\bytexl\\lib\\site-packages (from tiktoken->openai-whisper) (2024.11.6)\n",
            "Requirement already satisfied: requests>=2.26.0 in c:\\users\\anage\\anaconda3\\envs\\bytexl\\lib\\site-packages (from tiktoken->openai-whisper) (2.32.3)\n",
            "Requirement already satisfied: filelock in c:\\users\\anage\\anaconda3\\envs\\bytexl\\lib\\site-packages (from torch->openai-whisper) (3.18.0)\n",
            "Requirement already satisfied: typing-extensions>=4.10.0 in c:\\users\\anage\\anaconda3\\envs\\bytexl\\lib\\site-packages (from torch->openai-whisper) (4.13.2)\n",
            "Requirement already satisfied: sympy>=1.13.3 in c:\\users\\anage\\anaconda3\\envs\\bytexl\\lib\\site-packages (from torch->openai-whisper) (1.13.3)\n",
            "Requirement already satisfied: networkx in c:\\users\\anage\\anaconda3\\envs\\bytexl\\lib\\site-packages (from torch->openai-whisper) (3.2.1)\n",
            "Requirement already satisfied: jinja2 in c:\\users\\anage\\anaconda3\\envs\\bytexl\\lib\\site-packages (from torch->openai-whisper) (3.1.6)\n",
            "Requirement already satisfied: fsspec in c:\\users\\anage\\anaconda3\\envs\\bytexl\\lib\\site-packages (from torch->openai-whisper) (2025.3.2)\n",
            "Requirement already satisfied: colorama in c:\\users\\anage\\anaconda3\\envs\\bytexl\\lib\\site-packages (from tqdm->openai-whisper) (0.4.6)\n",
            "Requirement already satisfied: charset-normalizer<4,>=2 in c:\\users\\anage\\anaconda3\\envs\\bytexl\\lib\\site-packages (from requests>=2.26.0->tiktoken->openai-whisper) (3.4.1)\n",
            "Requirement already satisfied: idna<4,>=2.5 in c:\\users\\anage\\anaconda3\\envs\\bytexl\\lib\\site-packages (from requests>=2.26.0->tiktoken->openai-whisper) (3.10)\n",
            "Requirement already satisfied: urllib3<3,>=1.21.1 in c:\\users\\anage\\anaconda3\\envs\\bytexl\\lib\\site-packages (from requests>=2.26.0->tiktoken->openai-whisper) (2.4.0)\n",
            "Requirement already satisfied: certifi>=2017.4.17 in c:\\users\\anage\\anaconda3\\envs\\bytexl\\lib\\site-packages (from requests>=2.26.0->tiktoken->openai-whisper) (2025.1.31)\n",
            "Requirement already satisfied: mpmath<1.4,>=1.1.0 in c:\\users\\anage\\anaconda3\\envs\\bytexl\\lib\\site-packages (from sympy>=1.13.3->torch->openai-whisper) (1.3.0)\n",
            "Requirement already satisfied: MarkupSafe>=2.0 in c:\\users\\anage\\anaconda3\\envs\\bytexl\\lib\\site-packages (from jinja2->torch->openai-whisper) (3.0.2)\n",
            "Requirement already satisfied: nltk in c:\\users\\anage\\anaconda3\\envs\\bytexl\\lib\\site-packages (3.9.1)\n",
            "Requirement already satisfied: click in c:\\users\\anage\\anaconda3\\envs\\bytexl\\lib\\site-packages (from nltk) (8.1.8)\n",
            "Requirement already satisfied: joblib in c:\\users\\anage\\anaconda3\\envs\\bytexl\\lib\\site-packages (from nltk) (1.4.2)\n",
            "Requirement already satisfied: regex>=2021.8.3 in c:\\users\\anage\\anaconda3\\envs\\bytexl\\lib\\site-packages (from nltk) (2024.11.6)\n",
            "Requirement already satisfied: tqdm in c:\\users\\anage\\anaconda3\\envs\\bytexl\\lib\\site-packages (from nltk) (4.67.1)\n",
            "Requirement already satisfied: colorama in c:\\users\\anage\\anaconda3\\envs\\bytexl\\lib\\site-packages (from click->nltk) (0.4.6)\n",
            "Requirement already satisfied: transformers in c:\\users\\anage\\anaconda3\\envs\\bytexl\\lib\\site-packages (4.51.3)\n",
            "Requirement already satisfied: filelock in c:\\users\\anage\\anaconda3\\envs\\bytexl\\lib\\site-packages (from transformers) (3.18.0)\n",
            "Requirement already satisfied: huggingface-hub<1.0,>=0.30.0 in c:\\users\\anage\\anaconda3\\envs\\bytexl\\lib\\site-packages (from transformers) (0.30.2)\n",
            "Requirement already satisfied: numpy>=1.17 in c:\\users\\anage\\anaconda3\\envs\\bytexl\\lib\\site-packages (from transformers) (2.0.2)\n",
            "Requirement already satisfied: packaging>=20.0 in c:\\users\\anage\\anaconda3\\envs\\bytexl\\lib\\site-packages (from transformers) (25.0)\n",
            "Requirement already satisfied: pyyaml>=5.1 in c:\\users\\anage\\anaconda3\\envs\\bytexl\\lib\\site-packages (from transformers) (6.0.2)\n",
            "Requirement already satisfied: regex!=2019.12.17 in c:\\users\\anage\\anaconda3\\envs\\bytexl\\lib\\site-packages (from transformers) (2024.11.6)\n",
            "Requirement already satisfied: requests in c:\\users\\anage\\anaconda3\\envs\\bytexl\\lib\\site-packages (from transformers) (2.32.3)\n",
            "Requirement already satisfied: tokenizers<0.22,>=0.21 in c:\\users\\anage\\anaconda3\\envs\\bytexl\\lib\\site-packages (from transformers) (0.21.1)\n",
            "Requirement already satisfied: safetensors>=0.4.3 in c:\\users\\anage\\anaconda3\\envs\\bytexl\\lib\\site-packages (from transformers) (0.5.3)\n",
            "Requirement already satisfied: tqdm>=4.27 in c:\\users\\anage\\anaconda3\\envs\\bytexl\\lib\\site-packages (from transformers) (4.67.1)\n",
            "Requirement already satisfied: fsspec>=2023.5.0 in c:\\users\\anage\\anaconda3\\envs\\bytexl\\lib\\site-packages (from huggingface-hub<1.0,>=0.30.0->transformers) (2025.3.2)\n",
            "Requirement already satisfied: typing-extensions>=3.7.4.3 in c:\\users\\anage\\anaconda3\\envs\\bytexl\\lib\\site-packages (from huggingface-hub<1.0,>=0.30.0->transformers) (4.13.2)\n",
            "Requirement already satisfied: colorama in c:\\users\\anage\\anaconda3\\envs\\bytexl\\lib\\site-packages (from tqdm>=4.27->transformers) (0.4.6)\n",
            "Requirement already satisfied: charset-normalizer<4,>=2 in c:\\users\\anage\\anaconda3\\envs\\bytexl\\lib\\site-packages (from requests->transformers) (3.4.1)\n",
            "Requirement already satisfied: idna<4,>=2.5 in c:\\users\\anage\\anaconda3\\envs\\bytexl\\lib\\site-packages (from requests->transformers) (3.10)\n",
            "Requirement already satisfied: urllib3<3,>=1.21.1 in c:\\users\\anage\\anaconda3\\envs\\bytexl\\lib\\site-packages (from requests->transformers) (2.4.0)\n",
            "Requirement already satisfied: certifi>=2017.4.17 in c:\\users\\anage\\anaconda3\\envs\\bytexl\\lib\\site-packages (from requests->transformers) (2025.1.31)\n",
            "Requirement already satisfied: sentence-transformers in c:\\users\\anage\\anaconda3\\envs\\bytexl\\lib\\site-packages (4.1.0)\n",
            "Requirement already satisfied: transformers<5.0.0,>=4.41.0 in c:\\users\\anage\\anaconda3\\envs\\bytexl\\lib\\site-packages (from sentence-transformers) (4.51.3)\n",
            "Requirement already satisfied: tqdm in c:\\users\\anage\\anaconda3\\envs\\bytexl\\lib\\site-packages (from sentence-transformers) (4.67.1)\n",
            "Requirement already satisfied: torch>=1.11.0 in c:\\users\\anage\\anaconda3\\envs\\bytexl\\lib\\site-packages (from sentence-transformers) (2.7.0)\n",
            "Requirement already satisfied: scikit-learn in c:\\users\\anage\\anaconda3\\envs\\bytexl\\lib\\site-packages (from sentence-transformers) (1.6.1)\n",
            "Requirement already satisfied: scipy in c:\\users\\anage\\anaconda3\\envs\\bytexl\\lib\\site-packages (from sentence-transformers) (1.13.1)\n",
            "Requirement already satisfied: huggingface-hub>=0.20.0 in c:\\users\\anage\\anaconda3\\envs\\bytexl\\lib\\site-packages (from sentence-transformers) (0.30.2)\n",
            "Requirement already satisfied: Pillow in c:\\users\\anage\\anaconda3\\envs\\bytexl\\lib\\site-packages (from sentence-transformers) (11.2.1)\n",
            "Requirement already satisfied: typing_extensions>=4.5.0 in c:\\users\\anage\\anaconda3\\envs\\bytexl\\lib\\site-packages (from sentence-transformers) (4.13.2)\n",
            "Requirement already satisfied: filelock in c:\\users\\anage\\anaconda3\\envs\\bytexl\\lib\\site-packages (from huggingface-hub>=0.20.0->sentence-transformers) (3.18.0)\n",
            "Requirement already satisfied: fsspec>=2023.5.0 in c:\\users\\anage\\anaconda3\\envs\\bytexl\\lib\\site-packages (from huggingface-hub>=0.20.0->sentence-transformers) (2025.3.2)\n",
            "Requirement already satisfied: packaging>=20.9 in c:\\users\\anage\\anaconda3\\envs\\bytexl\\lib\\site-packages (from huggingface-hub>=0.20.0->sentence-transformers) (25.0)\n",
            "Requirement already satisfied: pyyaml>=5.1 in c:\\users\\anage\\anaconda3\\envs\\bytexl\\lib\\site-packages (from huggingface-hub>=0.20.0->sentence-transformers) (6.0.2)\n",
            "Requirement already satisfied: requests in c:\\users\\anage\\anaconda3\\envs\\bytexl\\lib\\site-packages (from huggingface-hub>=0.20.0->sentence-transformers) (2.32.3)\n",
            "Requirement already satisfied: sympy>=1.13.3 in c:\\users\\anage\\anaconda3\\envs\\bytexl\\lib\\site-packages (from torch>=1.11.0->sentence-transformers) (1.13.3)\n",
            "Requirement already satisfied: networkx in c:\\users\\anage\\anaconda3\\envs\\bytexl\\lib\\site-packages (from torch>=1.11.0->sentence-transformers) (3.2.1)\n",
            "Requirement already satisfied: jinja2 in c:\\users\\anage\\anaconda3\\envs\\bytexl\\lib\\site-packages (from torch>=1.11.0->sentence-transformers) (3.1.6)\n",
            "Requirement already satisfied: colorama in c:\\users\\anage\\anaconda3\\envs\\bytexl\\lib\\site-packages (from tqdm->sentence-transformers) (0.4.6)\n",
            "Requirement already satisfied: numpy>=1.17 in c:\\users\\anage\\anaconda3\\envs\\bytexl\\lib\\site-packages (from transformers<5.0.0,>=4.41.0->sentence-transformers) (2.0.2)\n",
            "Requirement already satisfied: regex!=2019.12.17 in c:\\users\\anage\\anaconda3\\envs\\bytexl\\lib\\site-packages (from transformers<5.0.0,>=4.41.0->sentence-transformers) (2024.11.6)\n",
            "Requirement already satisfied: tokenizers<0.22,>=0.21 in c:\\users\\anage\\anaconda3\\envs\\bytexl\\lib\\site-packages (from transformers<5.0.0,>=4.41.0->sentence-transformers) (0.21.1)\n",
            "Requirement already satisfied: safetensors>=0.4.3 in c:\\users\\anage\\anaconda3\\envs\\bytexl\\lib\\site-packages (from transformers<5.0.0,>=4.41.0->sentence-transformers) (0.5.3)\n",
            "Requirement already satisfied: joblib>=1.2.0 in c:\\users\\anage\\anaconda3\\envs\\bytexl\\lib\\site-packages (from scikit-learn->sentence-transformers) (1.4.2)\n",
            "Requirement already satisfied: threadpoolctl>=3.1.0 in c:\\users\\anage\\anaconda3\\envs\\bytexl\\lib\\site-packages (from scikit-learn->sentence-transformers) (3.6.0)\n",
            "Requirement already satisfied: mpmath<1.4,>=1.1.0 in c:\\users\\anage\\anaconda3\\envs\\bytexl\\lib\\site-packages (from sympy>=1.13.3->torch>=1.11.0->sentence-transformers) (1.3.0)\n",
            "Requirement already satisfied: MarkupSafe>=2.0 in c:\\users\\anage\\anaconda3\\envs\\bytexl\\lib\\site-packages (from jinja2->torch>=1.11.0->sentence-transformers) (3.0.2)\n",
            "Requirement already satisfied: charset-normalizer<4,>=2 in c:\\users\\anage\\anaconda3\\envs\\bytexl\\lib\\site-packages (from requests->huggingface-hub>=0.20.0->sentence-transformers) (3.4.1)\n",
            "Requirement already satisfied: idna<4,>=2.5 in c:\\users\\anage\\anaconda3\\envs\\bytexl\\lib\\site-packages (from requests->huggingface-hub>=0.20.0->sentence-transformers) (3.10)\n",
            "Requirement already satisfied: urllib3<3,>=1.21.1 in c:\\users\\anage\\anaconda3\\envs\\bytexl\\lib\\site-packages (from requests->huggingface-hub>=0.20.0->sentence-transformers) (2.4.0)\n",
            "Requirement already satisfied: certifi>=2017.4.17 in c:\\users\\anage\\anaconda3\\envs\\bytexl\\lib\\site-packages (from requests->huggingface-hub>=0.20.0->sentence-transformers) (2025.1.31)\n"
          ]
        }
      ],
      "source": [
        "!pip install openai-whisper\n",
        "!pip install nltk\n",
        "!pip install transformers\n",
        "!pip install sentence-transformers\n"
      ]
    },
    {
      "cell_type": "code",
      "execution_count": 2,
      "metadata": {},
      "outputs": [
        {
          "name": "stdout",
          "output_type": "stream",
          "text": [
            "Requirement already satisfied: language-tool-python in c:\\users\\anage\\anaconda3\\envs\\bytexl\\lib\\site-packages (2.9.3)\n",
            "Requirement already satisfied: requests in c:\\users\\anage\\anaconda3\\envs\\bytexl\\lib\\site-packages (from language-tool-python) (2.32.3)\n",
            "Requirement already satisfied: tqdm in c:\\users\\anage\\anaconda3\\envs\\bytexl\\lib\\site-packages (from language-tool-python) (4.67.1)\n",
            "Requirement already satisfied: psutil in c:\\users\\anage\\anaconda3\\envs\\bytexl\\lib\\site-packages (from language-tool-python) (7.0.0)\n",
            "Requirement already satisfied: toml in c:\\users\\anage\\anaconda3\\envs\\bytexl\\lib\\site-packages (from language-tool-python) (0.10.2)\n",
            "Requirement already satisfied: charset-normalizer<4,>=2 in c:\\users\\anage\\anaconda3\\envs\\bytexl\\lib\\site-packages (from requests->language-tool-python) (3.4.1)\n",
            "Requirement already satisfied: idna<4,>=2.5 in c:\\users\\anage\\anaconda3\\envs\\bytexl\\lib\\site-packages (from requests->language-tool-python) (3.10)\n",
            "Requirement already satisfied: urllib3<3,>=1.21.1 in c:\\users\\anage\\anaconda3\\envs\\bytexl\\lib\\site-packages (from requests->language-tool-python) (2.4.0)\n",
            "Requirement already satisfied: certifi>=2017.4.17 in c:\\users\\anage\\anaconda3\\envs\\bytexl\\lib\\site-packages (from requests->language-tool-python) (2025.1.31)\n",
            "Requirement already satisfied: colorama in c:\\users\\anage\\anaconda3\\envs\\bytexl\\lib\\site-packages (from tqdm->language-tool-python) (0.4.6)\n"
          ]
        }
      ],
      "source": [
        "!pip install language-tool-python"
      ]
    },
    {
      "cell_type": "code",
      "execution_count": 3,
      "metadata": {
        "colab": {
          "base_uri": "https://localhost:8080/"
        },
        "collapsed": true,
        "id": "hqZQLTVSSaAM",
        "outputId": "d8af77b0-d38e-486c-8c91-da1301429506"
      },
      "outputs": [
        {
          "name": "stderr",
          "output_type": "stream",
          "text": [
            "[nltk_data] Downloading package punkt to\n",
            "[nltk_data]     C:\\Users\\anage\\AppData\\Roaming\\nltk_data...\n",
            "[nltk_data]   Package punkt is already up-to-date!\n",
            "[nltk_data] Downloading package averaged_perceptron_tagger to\n",
            "[nltk_data]     C:\\Users\\anage\\AppData\\Roaming\\nltk_data...\n",
            "[nltk_data]   Package averaged_perceptron_tagger is already up-to-\n",
            "[nltk_data]       date!\n"
          ]
        },
        {
          "data": {
            "text/plain": [
              "True"
            ]
          },
          "execution_count": 3,
          "metadata": {},
          "output_type": "execute_result"
        }
      ],
      "source": [
        "import nltk\n",
        "nltk.download('punkt')\n",
        "nltk.download('averaged_perceptron_tagger')"
      ]
    },
    {
      "cell_type": "code",
      "execution_count": 4,
      "metadata": {
        "id": "v1I9Gc95R5x1"
      },
      "outputs": [
        {
          "name": "stderr",
          "output_type": "stream",
          "text": [
            "c:\\Users\\anage\\anaconda3\\envs\\byteXL\\lib\\site-packages\\tqdm\\auto.py:21: TqdmWarning: IProgress not found. Please update jupyter and ipywidgets. See https://ipywidgets.readthedocs.io/en/stable/user_install.html\n",
            "  from .autonotebook import tqdm as notebook_tqdm\n"
          ]
        }
      ],
      "source": [
        "import whisper\n",
        "import nltk\n",
        "import language_tool_python\n",
        "from nltk.tokenize import word_tokenize\n",
        "from sentence_transformers import SentenceTransformer, util\n",
        "import numpy as np"
      ]
    },
    {
      "cell_type": "code",
      "execution_count": 5,
      "metadata": {
        "colab": {
          "base_uri": "https://localhost:8080/"
        },
        "id": "jgjLHARbSq5H",
        "outputId": "6a3152cd-59c1-481c-9351-bbf639649c06"
      },
      "outputs": [],
      "source": [
        "# Load models\n",
        "whisper_model = whisper.load_model(\"base\")\n",
        "semantic_model = SentenceTransformer('all-MiniLM-L6-v2')\n",
        "tool = language_tool_python.LanguageTool('en-US')"
      ]
    },
    {
      "cell_type": "code",
      "execution_count": 6,
      "metadata": {
        "colab": {
          "base_uri": "https://localhost:8080/"
        },
        "id": "DlyBErNYZr59",
        "outputId": "4fbc3e1d-9e19-4682-a397-6ba1ffcca2fc"
      },
      "outputs": [
        {
          "name": "stderr",
          "output_type": "stream",
          "text": [
            "[nltk_data] Downloading package punkt_tab to\n",
            "[nltk_data]     C:\\Users\\anage\\AppData\\Roaming\\nltk_data...\n",
            "[nltk_data]   Package punkt_tab is already up-to-date!\n"
          ]
        },
        {
          "data": {
            "text/plain": [
              "True"
            ]
          },
          "execution_count": 6,
          "metadata": {},
          "output_type": "execute_result"
        }
      ],
      "source": [
        "import nltk\n",
        "nltk.download('punkt_tab')"
      ]
    },
    {
      "cell_type": "code",
      "execution_count": 7,
      "metadata": {
        "id": "HWWbEFPdVITn"
      },
      "outputs": [],
      "source": [
        "from pathlib import Path\n",
        "import os\n",
        "\n",
        "def transcribe_audio(file_path):\n",
        "    file_path = Path(file_path).resolve(strict=True)  # resolve to absolute path\n",
        "    print(\"Resolved path -->\", file_path)\n",
        "    print(\"Exists:\", file_path.exists())\n",
        "\n",
        "    result = whisper_model.transcribe(str(file_path))  # convert Path to string\n",
        "    return result[\"text\"]\n"
      ]
    },
    {
      "cell_type": "code",
      "execution_count": 8,
      "metadata": {
        "id": "UB5A9gRiZ3iz"
      },
      "outputs": [],
      "source": [
        "def compute_fluency(text):\n",
        "    words = word_tokenize(text)\n",
        "    word_count = len(words)\n",
        "    sentence_count = max(1, len(nltk.sent_tokenize(text)))\n",
        "    avg_words_per_sentence = word_count / sentence_count\n",
        "    fluency_score = min(10.0, avg_words_per_sentence / 2)  # heuristic\n",
        "    return round(fluency_score, 2)"
      ]
    },
    {
      "cell_type": "code",
      "execution_count": 9,
      "metadata": {
        "id": "NDd2UFnmZ71W"
      },
      "outputs": [],
      "source": [
        "def compute_vocabulary(text):\n",
        "    words = word_tokenize(text)\n",
        "    unique_words = set(words)\n",
        "    diversity = len(unique_words) / len(words)\n",
        "    vocab_score = min(10.0, diversity * 10)  # 0.0 to 10.0\n",
        "    return round(vocab_score, 2)"
      ]
    },
    {
      "cell_type": "code",
      "execution_count": 10,
      "metadata": {
        "id": "ad5_tW5IZ9pk"
      },
      "outputs": [],
      "source": [
        "def compute_grammar(text):\n",
        "    matches = tool.check(text)\n",
        "    error_rate = len(matches) / max(1, len(text.split()))\n",
        "    grammar_score = max(0.0, 10.0 - (error_rate * 50))  # Heuristic penalty\n",
        "    return round(grammar_score, 2)"
      ]
    },
    {
      "cell_type": "code",
      "execution_count": 11,
      "metadata": {
        "id": "ERkMWOe5Z-Oz"
      },
      "outputs": [],
      "source": [
        "def compute_relevance(transcription, topic):\n",
        "    emb1 = semantic_model.encode(transcription, convert_to_tensor=True)\n",
        "    emb2 = semantic_model.encode(topic, convert_to_tensor=True)\n",
        "    similarity = util.cos_sim(emb1, emb2).item()\n",
        "    return round(similarity * 10, 2)"
      ]
    },
    {
      "cell_type": "code",
      "execution_count": 12,
      "metadata": {
        "id": "WUs0p7EcZ_zf"
      },
      "outputs": [],
      "source": [
        "def analyze_audio(file_path, topic):\n",
        "    transcription = transcribe_audio(file_path)\n",
        "    print(\"\\nTranscription:\\n\", transcription)\n",
        "\n",
        "    return {\n",
        "        \"fluency\": compute_fluency(transcription),\n",
        "        \"vocabulary\": compute_vocabulary(transcription),\n",
        "        \"grammar\": compute_grammar(transcription),\n",
        "        \"relevance\": compute_relevance(transcription, topic)\n",
        "    }"
      ]
    },
    {
      "cell_type": "code",
      "execution_count": 13,
      "metadata": {},
      "outputs": [
        {
          "data": {
            "text/plain": [
              "'c:\\\\Users\\\\anage\\\\Documents\\\\vscode_projects\\\\Complete_Audio_analysis\\\\Complete_Audio_analysis\\\\research_notebooks'"
            ]
          },
          "execution_count": 13,
          "metadata": {},
          "output_type": "execute_result"
        }
      ],
      "source": [
        "pwd"
      ]
    },
    {
      "cell_type": "code",
      "execution_count": 14,
      "metadata": {},
      "outputs": [
        {
          "name": "stdout",
          "output_type": "stream",
          "text": [
            "True\n"
          ]
        }
      ],
      "source": [
        "import os\n",
        "#audio_path = \"c:/Users/anage/Documents/vscode_projects/Complete_Audio_analysis/Complete_Audio_analysis/input_audio_files/genevieve.wav\"\n",
        "audio_path = \"C:/Users/anage/Downloads/speech1.mp3\"\n",
        "print(os.path.exists(audio_path)) "
      ]
    },
    {
      "cell_type": "code",
      "execution_count": 15,
      "metadata": {
        "colab": {
          "base_uri": "https://localhost:8080/"
        },
        "id": "cDE0cCcraCG2",
        "outputId": "d1eb63a9-9418-4448-858c-262526aee708"
      },
      "outputs": [
        {
          "name": "stdout",
          "output_type": "stream",
          "text": [
            "Resolved path --> C:\\Users\\anage\\Downloads\\speech1.mp3\n",
            "Exists: True\n"
          ]
        },
        {
          "name": "stderr",
          "output_type": "stream",
          "text": [
            "c:\\Users\\anage\\anaconda3\\envs\\byteXL\\lib\\site-packages\\whisper\\transcribe.py:126: UserWarning: FP16 is not supported on CPU; using FP32 instead\n",
            "  warnings.warn(\"FP16 is not supported on CPU; using FP32 instead\")\n"
          ]
        },
        {
          "name": "stdout",
          "output_type": "stream",
          "text": [
            "\n",
            "Transcription:\n",
            "  Your hands lie open in the long fresh grass. The finger points look through like rosy blooms. Your eyes smile peace. The pasture gleams and glooms beneath billowing skies that scatter and amass. All round our nest far as the eye can pass. Our golden king cup feels with silver edge where the cow partially skirts the Hawthorn hedge to his visible silence still is the hourglass. Your hands lie open in the long fresh grass. The finger points look through like rosy blooms. Your eyes smile peace. The pasture gleams and glooms beneath billowing skies that scatter and amass. All round our nest far as the eye can pass. Our golden king cup feels with silver edge where the cow partially skirts the Hawthorn hedge to his visible silence still is the hourglass.\n",
            "\n",
            "Analysis Result:\n",
            "{'fluency': 6.08, 'vocabulary': 4.18, 'grammar': 10.0, 'relevance': 0.6}\n"
          ]
        }
      ],
      "source": [
        "# Example usage\n",
        "#if __name__ == \"__main__\":\n",
        "\n",
        "topic = \"The importance of renewable energy\"\n",
        "scores = analyze_audio(audio_path, topic)\n",
        "print(\"\\nAnalysis Result:\")\n",
        "\n",
        "print(scores)"
      ]
    }
  ],
  "metadata": {
    "colab": {
      "provenance": []
    },
    "kernelspec": {
      "display_name": "byteXL",
      "language": "python",
      "name": "python3"
    },
    "language_info": {
      "codemirror_mode": {
        "name": "ipython",
        "version": 3
      },
      "file_extension": ".py",
      "mimetype": "text/x-python",
      "name": "python",
      "nbconvert_exporter": "python",
      "pygments_lexer": "ipython3",
      "version": "3.9.21"
    }
  },
  "nbformat": 4,
  "nbformat_minor": 0
}
